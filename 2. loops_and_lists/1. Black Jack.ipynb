{
 "cells": [
  {
   "cell_type": "markdown",
   "id": "01081be4",
   "metadata": {},
   "source": [
    "# Welcome to the Black Jack game! 🃏\n",
    "\n",
    "In this project, you will build a Jupyter Notebook Black Jack game. This exercise is designed to validate the core concepts you have seen so far, common to most programming languages:\n",
    "\n",
    "* Read user input / Print output to user\n",
    "* Variables and methods\n",
    "* Control flow (conditions and loops)\n",
    "* Manipulation of strings and lists\n",
    "\n",
    "![](../images/cards.png)\n",
    "\n",
    "## Rules of the game\n",
    "\n",
    "We will implement a simplified version of Black Jack:\n",
    "\n",
    "* The player starts with no cards (score of `0`)\n",
    "* The bank starts with a _random_ score between `16` and `21`\n",
    "* For each round, the player can:\n",
    "    * Draw a card with a random value between `1` and `11`. This number will be added to his/her score.\n",
    "    * Draw another, or stick with the current score and finish the game.\n",
    "* In the end, there are 5 possibilities:\n",
    "    * If the player’s score is > 21, they `\"Lose\"` (bust).\n",
    "    * If the player’s score is 21, they pull a `\"Black Jack\"` and win.\n",
    "    * If the player’s score is > than the bank’s, they `\"Win\"`.\n",
    "    * If the player’s score is < than the bank’s, they `\"Lose\"`.\n",
    "    * If the player’s score is == to the bank’s, it’s a `\"Push\"`."
   ]
  },
  {
   "cell_type": "markdown",
   "id": "41920bd7",
   "metadata": {},
   "source": [
    "## Separation of Concerns\n",
    "\n",
    "To make sure our code is easy to update and maintain, it's important to separate the game logic into small, individual functions. We could write everything in one, long cell, however what happens if we get a bug? We need to go through each line of code, to see where it happened 😳 Instead, if a bug occurs inside, let's say, the `create_bank_score` function, we only have a few lines of code to debug.\n",
    "\n",
    "In fact, let's do the `create_bank_score` function together, as we would also like to introduce a useful package for randomizing numbers - `random`!"
   ]
  },
  {
   "cell_type": "markdown",
   "id": "3c14ba9e",
   "metadata": {},
   "source": [
    "## Coding the `create_bank_score` function with `random`"
   ]
  },
  {
   "cell_type": "markdown",
   "id": "3976bb58",
   "metadata": {},
   "source": [
    "**Randomizing a bank score using `random`**\n",
    "\n",
    "[random](https://docs.python.org/3/library/random.html) is a built-in library inside Python. Meaning, it's a collection of methods that we can *import* and use if we want to add some random elements to our program - for example, picking a random bank score between 16 and 21.\n",
    "\n",
    "Make sure to check out the documentation of `random`! 📚 Meanwhile, here are some examples:"
   ]
  },
  {
   "cell_type": "code",
   "execution_count": 1,
   "id": "2428e44c",
   "metadata": {},
   "outputs": [],
   "source": [
    "import random # run this to import the library first"
   ]
  },
  {
   "cell_type": "code",
   "execution_count": 5,
   "id": "7be1febe",
   "metadata": {},
   "outputs": [
    {
     "data": {
      "text/plain": [
       "0.6787994764903624"
      ]
     },
     "execution_count": 5,
     "metadata": {},
     "output_type": "execute_result"
    }
   ],
   "source": [
    "# getting a random float between 0 and 1\n",
    "random.random()"
   ]
  },
  {
   "cell_type": "code",
   "execution_count": 24,
   "id": "46b3bcac",
   "metadata": {},
   "outputs": [
    {
     "data": {
      "text/plain": [
       "4"
      ]
     },
     "execution_count": 24,
     "metadata": {},
     "output_type": "execute_result"
    }
   ],
   "source": [
    "# getting a random number between 1 and 5\n",
    "random.randint(1, 5)"
   ]
  },
  {
   "cell_type": "code",
   "execution_count": 21,
   "id": "629f43d9",
   "metadata": {},
   "outputs": [
    {
     "data": {
      "text/plain": [
       "'orange'"
      ]
     },
     "execution_count": 21,
     "metadata": {},
     "output_type": "execute_result"
    }
   ],
   "source": [
    "# picking a random item from a list\n",
    "random.choice(['banana', 'apple', 'orange'])"
   ]
  },
  {
   "cell_type": "markdown",
   "id": "dc87e633",
   "metadata": {},
   "source": [
    "Now let's code the `create_bank_score` function. Remember the instructions:\n",
    "\n",
    "* The bank starts with a random score between `16` and `21`\n",
    "\n",
    "Which of the above `random` methods do you think would fit best?"
   ]
  },
  {
   "cell_type": "code",
   "execution_count": null,
   "id": "3af5447d",
   "metadata": {},
   "outputs": [],
   "source": [
    "def create_bank_score():\n",
    "    return random.randint(16, 21)"
   ]
  },
  {
   "cell_type": "markdown",
   "id": "1868f134",
   "metadata": {},
   "source": [
    "That's it! Now we have a short, simple function to generate the bank score. We can test it:"
   ]
  },
  {
   "cell_type": "code",
   "execution_count": null,
   "id": "00e18609",
   "metadata": {},
   "outputs": [],
   "source": [
    "print(create_bank_score())\n",
    "print(create_bank_score()) # check twice to make sure it's random 😬"
   ]
  },
  {
   "cell_type": "markdown",
   "id": "d2d41bd8",
   "metadata": {},
   "source": [
    "# Your turn! 🚀\n",
    "\n",
    "We've added some cells for you - and even started some function definitions for you - now it's your turn to:\n",
    "\n",
    "1. Create all the functions you need\n",
    "2. Test the functions one by one to make sure they work\n",
    "3. Create the loop of the game\n",
    "\n",
    "Good luck!"
   ]
  },
  {
   "cell_type": "code",
   "execution_count": null,
   "id": "56a4c1a1",
   "metadata": {},
   "outputs": [],
   "source": [
    "def create_bank_score():\n",
    "    return random.randint(16, 21)"
   ]
  },
  {
   "cell_type": "code",
   "execution_count": null,
   "id": "a977fb10",
   "metadata": {},
   "outputs": [],
   "source": [
    "def pick_player_card():\n",
    "    \"\"\"\n",
    "    This function should return a random card (values between 1 and 11)\n",
    "    \"\"\""
   ]
  },
  {
   "cell_type": "code",
   "execution_count": null,
   "id": "df0cf67d",
   "metadata": {},
   "outputs": [],
   "source": [
    "# test your function"
   ]
  },
  {
   "cell_type": "code",
   "execution_count": null,
   "id": "2c81fe62",
   "metadata": {},
   "outputs": [],
   "source": [
    "def ask_player_choice():\n",
    "    \"\"\"\n",
    "    This function should ask the player if they want to draw another card ('y' or 'n'),\n",
    "    then return the player choice\n",
    "    \"\"\""
   ]
  },
  {
   "cell_type": "code",
   "execution_count": null,
   "id": "518d474b",
   "metadata": {},
   "outputs": [],
   "source": [
    "# test your function"
   ]
  },
  {
   "cell_type": "code",
   "execution_count": null,
   "id": "8fca8c1d",
   "metadata": {},
   "outputs": [],
   "source": [
    "def show_game_result(bank_score, player_score):\n",
    "    \"\"\"\n",
    "    This function should print (not return) the game result (one of the 5 possibilities)\n",
    "    \"\"\""
   ]
  },
  {
   "cell_type": "code",
   "execution_count": null,
   "id": "a6cf1f36",
   "metadata": {},
   "outputs": [],
   "source": [
    "# test your function"
   ]
  },
  {
   "cell_type": "code",
   "execution_count": 37,
   "id": "2c4c4ac8",
   "metadata": {},
   "outputs": [
    {
     "name": "stdout",
     "output_type": "stream",
     "text": [
      "Rock, paper or scissors?paper\n",
      "Computer showed paper, player showed paper\n",
      "Draw!\n"
     ]
    }
   ],
   "source": [
    "computer_hand = random.choice(['rock', 'paper', 'scissors'])\n",
    "\n",
    "player_hand = input(\"Rock, paper or scissors?\")\n",
    "\n",
    "print(f\"Computer showed {computer_hand}, player showed {player_hand}\")\n",
    "\n",
    "if player_hand == computer_hand:\n",
    "    print(\"Draw!\")\n",
    "elif player_hand == 'rock':\n",
    "    # ternary: code_if_true if condition else code_if_false\n",
    "    print(\"You won\" if computer_hand == 'scissors' else \"You lost\")\n",
    "elif player_hand == 'paper':\n",
    "    # ternary: code_if_true if condition else code_if_false\n",
    "    print(\"You won\" if computer_hand == 'rock' else \"You lost\")\n",
    "elif player_hand == 'scissors':\n",
    "    # ternary: code_if_true if condition else code_if_false\n",
    "    print(\"You won\" if computer_hand == 'paper' else \"You lost\")\n"
   ]
  },
  {
   "cell_type": "code",
   "execution_count": 29,
   "id": "a9b10be0",
   "metadata": {},
   "outputs": [
    {
     "name": "stdout",
     "output_type": "stream",
     "text": [
      "inside while loop\n",
      "What do you choose? yes or nono\n",
      "after while loop\n"
     ]
    }
   ],
   "source": [
    "### This is where you write the game loop:\n",
    "\n",
    "# First we create the starting variables \n",
    "# bank_score = create_bank_score()\n",
    "player_score = 0\n",
    "player_choice = 'yes'\n",
    "\n",
    "# Then write your game loop; think about what happens at what time? when should the loop end?\n",
    "while player_choice == 'yes':\n",
    "    # your code here\n",
    "    print('inside while loop')\n",
    "    player_choice = input(\"What do you choose? yes or no\")\n",
    "\n",
    "print('after while loop')\n",
    "\n",
    "\n",
    "\n",
    "\n",
    "\n",
    "\n",
    "\n"
   ]
  },
  {
   "cell_type": "markdown",
   "id": "367a68eb",
   "metadata": {},
   "source": [
    "# Done? Download this notebook and submit your work on Learn 🚀"
   ]
  }
 ],
 "metadata": {
  "kernelspec": {
   "display_name": "lewagon",
   "language": "python",
   "name": "lewagon"
  },
  "language_info": {
   "codemirror_mode": {
    "name": "ipython",
    "version": 3
   },
   "file_extension": ".py",
   "mimetype": "text/x-python",
   "name": "python",
   "nbconvert_exporter": "python",
   "pygments_lexer": "ipython3",
   "version": "3.8.6"
  },
  "toc": {
   "base_numbering": 1,
   "nav_menu": {},
   "number_sections": true,
   "sideBar": true,
   "skip_h1_title": false,
   "title_cell": "Table of Contents",
   "title_sidebar": "Contents",
   "toc_cell": false,
   "toc_position": {},
   "toc_section_display": true,
   "toc_window_display": false
  }
 },
 "nbformat": 4,
 "nbformat_minor": 5
}
