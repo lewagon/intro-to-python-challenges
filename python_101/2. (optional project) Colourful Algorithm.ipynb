{
 "cells": [
  {
   "cell_type": "markdown",
   "id": "29ee89ad",
   "metadata": {},
   "source": [
    "\n",
    "\n",
    "### Congrats on making it to this optional project!\n",
    "\n",
    "Again, there's no solution, so make sure you test your code by running it as you go! Good luck! 🍀\n",
    "\n",
    "## Background and Objectives\n",
    "\n",
    "We can break a number into different contiguous sub-subsequence parts.  For example, the number 324 can be broken into parts like (3, 2, 4, 32, 24, 324).  A **colorful** number is a number where the **products** of all the **subsets** of the digits are different. eg:\n",
    "\n",
    "**263** is a colorful number (**2**, **6**, **3**, **2x6**, **6x3**, **2x6x3**) are all different\n",
    "**236** is not (**2**, **3**, **6**, **2x3**, **3x6**, **2x3x6**) has **6** twice (6 and 2x3)\n",
    "\n",
    "## Specs\n",
    "\n",
    "We want you to write a function `is_colorful` which takes a single number as an argument and returns `True` if the number is colorful, `False` otherwise.\n",
    "\n",
    "For this exercise, only consider numbers with up to **3** digits (not more), eg: \n",
    "`is_colorful(263) #=> True`\n",
    "`is_colorful(236) #=> False`"
   ]
  },
  {
   "cell_type": "code",
   "execution_count": null,
   "id": "5ed7c11b",
   "metadata": {},
   "outputs": [],
   "source": [
    "def is_colorful(number):\n",
    "    pass\n",
    "    # your code here"
   ]
  },
  {
   "cell_type": "code",
   "execution_count": 1,
   "id": "8205eb96",
   "metadata": {},
   "outputs": [],
   "source": [
    "# test your function here"
   ]
  },
  {
   "cell_type": "markdown",
   "id": "75de4284",
   "metadata": {},
   "source": [
    "**Advanced:** What if we want to test a number of _any length_? How would that change your code?"
   ]
  }
 ],
 "metadata": {
  "kernelspec": {
   "display_name": "lewagon",
   "language": "python",
   "name": "lewagon"
  },
  "language_info": {
   "codemirror_mode": {
    "name": "ipython",
    "version": 3
   },
   "file_extension": ".py",
   "mimetype": "text/x-python",
   "name": "python",
   "nbconvert_exporter": "python",
   "pygments_lexer": "ipython3",
   "version": "3.8.6"
  },
  "toc": {
   "base_numbering": 1,
   "nav_menu": {},
   "number_sections": true,
   "sideBar": true,
   "skip_h1_title": false,
   "title_cell": "Table of Contents",
   "title_sidebar": "Contents",
   "toc_cell": false,
   "toc_position": {},
   "toc_section_display": true,
   "toc_window_display": false
  }
 },
 "nbformat": 4,
 "nbformat_minor": 5
}
