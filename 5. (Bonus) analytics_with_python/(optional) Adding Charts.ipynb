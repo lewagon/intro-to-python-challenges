{
 "cells": [
  {
   "cell_type": "markdown",
   "id": "5e735761",
   "metadata": {},
   "source": [
    "# Let's add charts to `orders.xlsx`\n",
    "\n",
    "⚠️ Make sure you finish the previous non-optional project `Enhance the Orders Spreadsheet` first.\n",
    "\n",
    "In this challenge, you'll be using boolean filtering and the `.plot()` method of `DataFrames` to answer some typical business questions about the `orders` data!\n",
    "\n",
    "This challenge is entirely optional and acts as bonus content to this course - you can come back to this challenge on your own time to continue practicing! 🙌"
   ]
  },
  {
   "cell_type": "markdown",
   "id": "bee81665",
   "metadata": {},
   "source": [
    "Run the below two cells to get started 👇"
   ]
  },
  {
   "cell_type": "code",
   "execution_count": null,
   "id": "6671ebd8",
   "metadata": {},
   "outputs": [],
   "source": [
    "import pandas as pd"
   ]
  },
  {
   "cell_type": "code",
   "execution_count": null,
   "id": "2e0dc6bd",
   "metadata": {},
   "outputs": [],
   "source": [
    "orders = pd.read_excel('orders.xlsx')\n",
    "orders.head()"
   ]
  },
  {
   "cell_type": "markdown",
   "id": "aaa74a46",
   "metadata": {},
   "source": [
    "## The CEO calls with a few questions about the recent orders! ☎️"
   ]
  },
  {
   "cell_type": "markdown",
   "id": "9821a6a4",
   "metadata": {},
   "source": [
    "Q1. What is the _distribution_ of our costs? Plot a chart."
   ]
  },
  {
   "cell_type": "code",
   "execution_count": null,
   "id": "71a3ad8f",
   "metadata": {},
   "outputs": [],
   "source": [
    "# your code here"
   ]
  },
  {
   "cell_type": "markdown",
   "id": "33689c7d",
   "metadata": {},
   "source": [
    "Q2. What is the distribution of the order quantities? Plot a chart."
   ]
  },
  {
   "cell_type": "code",
   "execution_count": null,
   "id": "f641a785",
   "metadata": {},
   "outputs": [],
   "source": [
    "# your code here"
   ]
  },
  {
   "cell_type": "markdown",
   "id": "5e7ef8a2",
   "metadata": {},
   "source": [
    "Q3. How many orders we have in each order priority queue? Plot a chart. (Hint: you'll likely need to use [.value_counts](https://pandas.pydata.org/docs/reference/api/pandas.Series.value_counts.html))"
   ]
  },
  {
   "cell_type": "code",
   "execution_count": null,
   "id": "e4f66716",
   "metadata": {},
   "outputs": [],
   "source": [
    "# your code here"
   ]
  },
  {
   "cell_type": "markdown",
   "id": "2973ba29",
   "metadata": {},
   "source": [
    "Q4. What is the _distribution_ of order quantities _per customer segments_? Plot a chart."
   ]
  },
  {
   "cell_type": "code",
   "execution_count": null,
   "id": "b657c862",
   "metadata": {},
   "outputs": [],
   "source": [
    "# your code here"
   ]
  },
  {
   "cell_type": "markdown",
   "id": "6a4a02b4",
   "metadata": {},
   "source": [
    "Q5. Is there a _correlation_ between our sales and costs? What about between order quantities and sales? Plot two charts."
   ]
  },
  {
   "cell_type": "code",
   "execution_count": null,
   "id": "7b5d284b",
   "metadata": {},
   "outputs": [],
   "source": [
    "# correlation between sales and costs"
   ]
  },
  {
   "cell_type": "code",
   "execution_count": null,
   "id": "4434f51b",
   "metadata": {},
   "outputs": [],
   "source": [
    "# correlation between order quantity and sales"
   ]
  },
  {
   "cell_type": "markdown",
   "id": "fa6ca614",
   "metadata": {},
   "source": [
    "Q6. What are the total sales by customer segment? No chart needed, but you'll likely need `.groupby()`"
   ]
  },
  {
   "cell_type": "code",
   "execution_count": null,
   "id": "f48eeb56",
   "metadata": {},
   "outputs": [],
   "source": [
    "# your code here"
   ]
  },
  {
   "cell_type": "markdown",
   "id": "f96d589d",
   "metadata": {},
   "source": [
    "Q7. What is the average order quantity per product category? No chart needed."
   ]
  },
  {
   "cell_type": "code",
   "execution_count": null,
   "id": "009f5e6e",
   "metadata": {},
   "outputs": [],
   "source": [
    "# your code here"
   ]
  },
  {
   "cell_type": "markdown",
   "id": "52d6cb27",
   "metadata": {},
   "source": [
    "Q8. What is the largest order (by sales) in each order priority queue? You'll need the [.max](https://pandas.pydata.org/docs/reference/api/pandas.core.groupby.GroupBy.max.html) aggregate function."
   ]
  },
  {
   "cell_type": "code",
   "execution_count": null,
   "id": "f279a16e",
   "metadata": {},
   "outputs": [],
   "source": [
    "# your code here"
   ]
  },
  {
   "cell_type": "markdown",
   "id": "c4e55454",
   "metadata": {},
   "source": [
    "Q9.1. **Advanced 🏋️‍♂️** Create a profit column for the orders (sales - costs). What is the total profit per customer segment? Plot a chart."
   ]
  },
  {
   "cell_type": "code",
   "execution_count": null,
   "id": "49b40385",
   "metadata": {},
   "outputs": [],
   "source": [
    "# your code here"
   ]
  },
  {
   "cell_type": "markdown",
   "id": "1265d066",
   "metadata": {},
   "source": [
    "Q9.2. **Advanced 🏋️‍♂️** Use `openpyxl` to add that chart into the `orders.xlsx` file. Remember to reuse the code from the slides!"
   ]
  },
  {
   "cell_type": "code",
   "execution_count": 22,
   "id": "f8cda67b",
   "metadata": {},
   "outputs": [],
   "source": [
    "import openpyxl\n",
    "# your code here"
   ]
  },
  {
   "cell_type": "markdown",
   "id": "d3ab0abc",
   "metadata": {},
   "source": [
    "Q10 **Advanced 🏋️‍♂️** For each order priority queue, what is the total order quantity _and_ the average order size (Sales)? Hint: check the documentation for [.agg()](https://pandas.pydata.org/pandas-docs/version/0.23/generated/pandas.core.groupby.DataFrameGroupBy.agg.html) method, which allows us to apply different aggregate functions to different columns."
   ]
  },
  {
   "cell_type": "code",
   "execution_count": null,
   "id": "13626855",
   "metadata": {},
   "outputs": [],
   "source": [
    "# your code here"
   ]
  },
  {
   "cell_type": "markdown",
   "id": "c7bb1aa0",
   "metadata": {},
   "source": [
    "# Done? Make sure to `download` the notebook and submit it on Learn 🚀"
   ]
  }
 ],
 "metadata": {
  "kernelspec": {
   "display_name": "lewagon",
   "language": "python",
   "name": "lewagon"
  },
  "language_info": {
   "codemirror_mode": {
    "name": "ipython",
    "version": 3
   },
   "file_extension": ".py",
   "mimetype": "text/x-python",
   "name": "python",
   "nbconvert_exporter": "python",
   "pygments_lexer": "ipython3",
   "version": "3.8.6"
  },
  "toc": {
   "base_numbering": 1,
   "nav_menu": {},
   "number_sections": true,
   "sideBar": true,
   "skip_h1_title": false,
   "title_cell": "Table of Contents",
   "title_sidebar": "Contents",
   "toc_cell": false,
   "toc_position": {},
   "toc_section_display": true,
   "toc_window_display": false
  }
 },
 "nbformat": 4,
 "nbformat_minor": 5
}
