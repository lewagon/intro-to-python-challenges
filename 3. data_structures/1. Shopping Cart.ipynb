{
 "cells": [
  {
   "cell_type": "markdown",
   "id": "bd9860e7",
   "metadata": {},
   "source": [
    "# Shopping Cart 🛒\n",
    "\n",
    "One of the core concepts of real programs is the notion of a **shopping cart** - an e-commerce concept, allowing users to put items in their cart and check out when they are ready. You will be implementing this logic in this project! 💪\n",
    "\n",
    "\n",
    "\n",
    "<div style=\"display: flex;\">\n",
    "    <div>\n",
    "        <h3>Today in the store:</h3>\n",
    "        <ul>\n",
    "            <li>yogurt: 10 RMB</li>\n",
    "            <li>meat: 20 RMB</li>\n",
    "            <li>vegetables: 5 RMB</li>\n",
    "            <li>potatoes: 3 RMB</li>\n",
    "            <li>rice: 2 RMB</li>\n",
    "            <p>... and any other items you'd like to add 😉</p>\n",
    "        </ul>\n",
    "    </div>\n",
    "    <div style=\"text-align: center;\">\n",
    "        <h3>Your final program should look something like this:</h3>\n",
    "        <img style=\"width: 50%; box-shadow: 0 0 20px rgba(0,0,0,0.3)\" src=\"../images/shopping_cart.png\"/>\n",
    "    </div>\n",
    "</div>\n",
    "\n"
   ]
  },
  {
   "cell_type": "markdown",
   "id": "14839781",
   "metadata": {},
   "source": [
    "## Let's begin! 🚀"
   ]
  },
  {
   "cell_type": "markdown",
   "id": "1d1204db",
   "metadata": {},
   "source": [
    "1. Let's start by creating the variables we need - the store `inventory` and the shopping `cart`:"
   ]
  },
  {
   "cell_type": "code",
   "execution_count": null,
   "id": "8f7b1ef7",
   "metadata": {},
   "outputs": [],
   "source": [
    "# we want to store a price for each item in inventory, so a dictionary is a fitting structure\n",
    "inventory = {\n",
    "    \"yogurt\": 10,\n",
    "    \"meat\": 20,\n",
    "    \"vegetables\": 5,\n",
    "    \"potatoes\": 3,\n",
    "    \"rice\": 2\n",
    "}\n",
    "\n",
    "# the cart should only store the names of items the user wants to buy, so a list works\n",
    "cart = []"
   ]
  },
  {
   "cell_type": "markdown",
   "id": "84474dc2",
   "metadata": {},
   "source": [
    "2. Now let's implement the functions we need for the store. Make sure to test the functions one by one, before jumping into the whole program!"
   ]
  },
  {
   "cell_type": "code",
   "execution_count": 1,
   "id": "fa44356a",
   "metadata": {},
   "outputs": [],
   "source": [
    "def print_available_items(inventory):\n",
    "    \"\"\"\n",
    "    This function should print a nice display of the available items (like in the example above)\n",
    "    Check out: https://docs.python.org/3/tutorial/datastructures.html#tut-loopidioms\n",
    "    \"\"\"\n",
    "    pass"
   ]
  },
  {
   "cell_type": "code",
   "execution_count": null,
   "id": "3f9c18c4",
   "metadata": {},
   "outputs": [],
   "source": [
    "# test your function"
   ]
  },
  {
   "cell_type": "code",
   "execution_count": 2,
   "id": "c0b7690d",
   "metadata": {},
   "outputs": [],
   "source": [
    "def ask_user_choice():\n",
    "    \"\"\"\n",
    "    This function should ask the user for their choice of action (add or pay)\n",
    "    Then **return** the user choice\n",
    "    \"\"\"\n",
    "    pass"
   ]
  },
  {
   "cell_type": "code",
   "execution_count": null,
   "id": "a2a2fbcc",
   "metadata": {},
   "outputs": [],
   "source": [
    "# test your function"
   ]
  },
  {
   "cell_type": "code",
   "execution_count": null,
   "id": "542414bc",
   "metadata": {},
   "outputs": [],
   "source": [
    "def ask_which_item():\n",
    "    \"\"\"\n",
    "    This function should ask the user for the item to add to cart\n",
    "    Then **return** the user choice\n",
    "    \"\"\"\n",
    "    pass"
   ]
  },
  {
   "cell_type": "code",
   "execution_count": null,
   "id": "063c228b",
   "metadata": {},
   "outputs": [],
   "source": [
    "# test your function"
   ]
  },
  {
   "cell_type": "code",
   "execution_count": 10,
   "id": "729b7651",
   "metadata": {},
   "outputs": [],
   "source": [
    "def count_total(cart, inventory):\n",
    "    \"\"\"\n",
    "    This function should calculate the total cost of all items in cart\n",
    "    Remember to use .get(): https://www.programiz.com/python-programming/methods/dictionary/get\n",
    "    \"\"\"\n",
    "    pass"
   ]
  },
  {
   "cell_type": "code",
   "execution_count": null,
   "id": "98033228",
   "metadata": {},
   "outputs": [],
   "source": [
    "# test your function"
   ]
  },
  {
   "cell_type": "markdown",
   "id": "896a5021",
   "metadata": {},
   "source": [
    "3. Now it's time to write the shopping loop. Think through what happens when, and test by running your code step by step. You can use the screenshot at the start of the exercise to see the order of actions."
   ]
  },
  {
   "cell_type": "code",
   "execution_count": null,
   "id": "9550248e",
   "metadata": {},
   "outputs": [],
   "source": [
    "print(\"🛒 Welcome to the Py 24/7 shop 🛒\")\n",
    "print(\"--------------------------------\")\n",
    "\n",
    "user_choice = \"\"\n",
    "\n",
    "while user_choice != \"pay\":\n",
    "    # 1. print available items in inventory\n",
    "    # 2. ask for user choice (add or pay)\n",
    "    # 3. if user picked 'add', ask which item to add to cart\n",
    "    # 3.1 add that item to the cart     (Check list.append() in https://docs.python.org/3/tutorial/datastructures.html)\n",
    "\n",
    "\n",
    "# 4. Calculate total after the loop ends\n",
    "\n",
    "\n",
    "\n",
    "\n",
    "\n",
    "\n",
    "\n",
    "\n"
   ]
  },
  {
   "cell_type": "markdown",
   "id": "5c8bef30",
   "metadata": {},
   "source": [
    "# Done? Download the notebook and submit the file on Learn 🚀"
   ]
  }
 ],
 "metadata": {
  "kernelspec": {
   "display_name": "Python 3 (ipykernel)",
   "language": "python",
   "name": "python3"
  },
  "language_info": {
   "codemirror_mode": {
    "name": "ipython",
    "version": 3
   },
   "file_extension": ".py",
   "mimetype": "text/x-python",
   "name": "python",
   "nbconvert_exporter": "python",
   "pygments_lexer": "ipython3",
   "version": "3.8.12"
  },
  "toc": {
   "base_numbering": 1,
   "nav_menu": {},
   "number_sections": true,
   "sideBar": true,
   "skip_h1_title": false,
   "title_cell": "Table of Contents",
   "title_sidebar": "Contents",
   "toc_cell": false,
   "toc_position": {},
   "toc_section_display": true,
   "toc_window_display": false
  }
 },
 "nbformat": 4,
 "nbformat_minor": 5
}
