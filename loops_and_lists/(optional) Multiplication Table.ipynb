{
 "cells": [
  {
   "cell_type": "markdown",
   "id": "ad1f79a9",
   "metadata": {},
   "source": [
    "## Background and objectives\n",
    "\n",
    "Your goal in this optional project is to implement a `multiplication_table` function, which takes one argument - a `size` - and creates a good old-fashioned multiplication table of that size.\n",
    "\n",
    "For example, if size is `3` you should get a table like this:\n",
    "\n",
    "```python\n",
    "1 2 3\n",
    "2 4 6\n",
    "3 6 9\n",
    "```\n",
    "\n",
    "Note that this result should be a `list of lists`. Meaning that the returned value looks like this:\n",
    "\n",
    "```python\n",
    "multiplication_table(3) ==> [[1,2,3],[2,4,6],[3,6,9]]\n",
    "multiplication_table(4) ==> [[1,2,3,4], [2,4,6,8], [3,6,9,12],[4,8,12,16]]\n",
    "```\n",
    "\n",
    "Good luck!"
   ]
  },
  {
   "cell_type": "code",
   "execution_count": null,
   "id": "0054ce9c",
   "metadata": {},
   "outputs": [],
   "source": [
    "def multiplication_table(size):\n",
    "    pass\n",
    "    # your code goes here"
   ]
  }
 ],
 "metadata": {
  "kernelspec": {
   "display_name": "lewagon",
   "language": "python",
   "name": "lewagon"
  },
  "language_info": {
   "codemirror_mode": {
    "name": "ipython",
    "version": 3
   },
   "file_extension": ".py",
   "mimetype": "text/x-python",
   "name": "python",
   "nbconvert_exporter": "python",
   "pygments_lexer": "ipython3",
   "version": "3.8.6"
  },
  "toc": {
   "base_numbering": 1,
   "nav_menu": {},
   "number_sections": true,
   "sideBar": true,
   "skip_h1_title": false,
   "title_cell": "Table of Contents",
   "title_sidebar": "Contents",
   "toc_cell": false,
   "toc_position": {},
   "toc_section_display": true,
   "toc_window_display": false
  }
 },
 "nbformat": 4,
 "nbformat_minor": 5
}
