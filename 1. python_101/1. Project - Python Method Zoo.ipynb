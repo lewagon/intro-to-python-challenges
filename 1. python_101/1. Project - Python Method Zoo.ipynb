{
 "cells": [
  {
   "cell_type": "markdown",
   "id": "3e5e6c25",
   "metadata": {},
   "source": [
    "### Welcome to your first assignment! 🚀\n",
    "\n",
    "This is where you test your knowledge from this week. You'll notice there's **no solutions** - like in the real world 😉\n",
    "\n",
    "And like in the real world, don't hesitate to test your code by _calling_ the functions you define and check the output. Make sure to **thoroughly read the error messages** if you get them - they are always full of hints!\n",
    "\n",
    "Good luck! 🍀"
   ]
  },
  {
   "cell_type": "markdown",
   "id": "79e7eafa",
   "metadata": {},
   "source": [
    "## Python Method Zoo\n",
    "\n",
    "As you've seen, Python has a rich library of [built-in data types](https://docs.python.org/3/library/stdtypes.html) and [built-in functions](https://docs.python.org/3/library/functions.html). These help us work with different types of info we might encounter when working with real data.\n",
    "\n",
    "Your goal in this project is to implement the functions we've defined for you below. Like a real developer. you will need to make use of the above linked documentation to find the built-in methods and functions to succeed 💪\n",
    "\n",
    "After you finish your work, remember to download the Notebook by clicking the **Download** button at the top and submit it on the Learn platform to get feedback.\n",
    "\n",
    "💡 Hints:\n",
    "- You can solve each function with one line of code\n",
    "- You only need to find the right method in the Python docs linked above"
   ]
  },
  {
   "cell_type": "code",
   "execution_count": null,
   "id": "5de9481b",
   "metadata": {},
   "outputs": [],
   "source": [
    "# Q1\n",
    "def add_comma(a_string):\n",
    "    \"\"\"\n",
    "    returns a copy of the string with every word separated by a comma\n",
    "    example: add_comma(\"High Low Average\") => \"High, Low, Average\"\n",
    "    Check out: https://docs.python.org/3/library/stdtypes.html#str.replace\n",
    "    \"\"\"\n",
    "    pass  # YOUR CODE HERE"
   ]
  },
  {
   "cell_type": "code",
   "execution_count": null,
   "id": "14204cae",
   "metadata": {},
   "outputs": [],
   "source": [
    "# test your code here"
   ]
  },
  {
   "cell_type": "code",
   "execution_count": null,
   "id": "5d6d775d",
   "metadata": {},
   "outputs": [],
   "source": [
    "# Q2\n",
    "def belongs_to(a_string, a_word):\n",
    "    \"\"\"\n",
    "    returns True if a_string contains a_word\n",
    "    example: belongs_to(\"The product was great!\", \"great\") => True\n",
    "    Check out: https://docs.python.org/3/library/stdtypes.html#str.find\n",
    "    \"\"\"\n",
    "    pass  # YOUR CODE HERE"
   ]
  },
  {
   "cell_type": "code",
   "execution_count": 12,
   "id": "3991de68",
   "metadata": {},
   "outputs": [],
   "source": [
    "# test your code here"
   ]
  },
  {
   "cell_type": "code",
   "execution_count": null,
   "id": "d9239c3a",
   "metadata": {},
   "outputs": [],
   "source": [
    "# Q3\n",
    "def count_repetition(a_string, a_substring):\n",
    "    \"\"\"\n",
    "    returns how many times a_substring occurs in a_string\n",
    "    example: count_repetition(\"000123000123\", \"0\") => 6\n",
    "    Check out: https://docs.python.org/3/library/stdtypes.html#str.count\n",
    "    \"\"\"\n",
    "    pass  # YOUR CODE HERE"
   ]
  },
  {
   "cell_type": "code",
   "execution_count": null,
   "id": "65b51dce",
   "metadata": {},
   "outputs": [],
   "source": [
    "# test your code here"
   ]
  },
  {
   "cell_type": "code",
   "execution_count": null,
   "id": "733b8613",
   "metadata": {},
   "outputs": [],
   "source": [
    "# Q4\n",
    "def in_power_of(x, y):\n",
    "    \"\"\"\n",
    "    returns x in the power of y\n",
    "    example: in_power_of(2,4) => 16\n",
    "    Check out: https://docs.python.org/3/library/stdtypes.html#numeric-types-int-float-complex\n",
    "    \"\"\"\n",
    "    pass"
   ]
  },
  {
   "cell_type": "code",
   "execution_count": null,
   "id": "b336321b",
   "metadata": {},
   "outputs": [],
   "source": [
    "# test your code here"
   ]
  },
  {
   "cell_type": "code",
   "execution_count": null,
   "id": "4a1a6cf8",
   "metadata": {},
   "outputs": [],
   "source": [
    "# Q5\n",
    "def is_a_question(a_string):\n",
    "    \"\"\"\n",
    "    returns True if a_string ends with a \"?\"\n",
    "    example: is_a_question(\"Can I talk to customer service?\") => True\n",
    "    Check out: https://docs.python.org/3/library/stdtypes.html#str.endswith\n",
    "    \"\"\"\n",
    "    pass  # YOUR CODE HERE"
   ]
  },
  {
   "cell_type": "code",
   "execution_count": null,
   "id": "ea1864fa",
   "metadata": {},
   "outputs": [],
   "source": [
    "# test your code here"
   ]
  },
  {
   "cell_type": "code",
   "execution_count": null,
   "id": "55e1839c",
   "metadata": {},
   "outputs": [],
   "source": [
    "# Q6\n",
    "def turn_to_integer(a_string):\n",
    "    \"\"\"\n",
    "    returns an Integer made from the number in a_string\n",
    "    example: turn_to_integer(\"42\") => 42\n",
    "    Check out: https://docs.python.org/3/library/functions.html#int\n",
    "    \"\"\"\n",
    "    pass"
   ]
  },
  {
   "cell_type": "code",
   "execution_count": null,
   "id": "3f36354a",
   "metadata": {},
   "outputs": [],
   "source": [
    "# test your code here"
   ]
  },
  {
   "cell_type": "code",
   "execution_count": null,
   "id": "fc352b72",
   "metadata": {},
   "outputs": [],
   "source": [
    "# Q7\n",
    "def remove_surrounding_whitespaces(a_string):\n",
    "    \"\"\"\n",
    "    returns a copy of the string with leading and trailing whitespaces removed\n",
    "    example: remove_surrounding_whitespaces(\"  elon@tesla.com    \") => \"elon@tesla.com\"\n",
    "    Check out: https://docs.python.org/3/library/stdtypes.html#str.strip\n",
    "    \"\"\"\n",
    "    pass  # YOUR CODE HERE"
   ]
  },
  {
   "cell_type": "code",
   "execution_count": null,
   "id": "b685eb37",
   "metadata": {},
   "outputs": [],
   "source": [
    "# test your code here"
   ]
  },
  {
   "cell_type": "code",
   "execution_count": null,
   "id": "f66c7ff8",
   "metadata": {},
   "outputs": [],
   "source": [
    "# Q8\n",
    "def replace(initial_string, old_letter, new_letter):\n",
    "    \"\"\"\n",
    "    returns a copy of the string with the new letter replacing the old one\n",
    "    example: replace(\"l0ve Pyth0n\", \"0\", \"o\") => \"love Python\"\n",
    "    \"\"\"\n",
    "    pass  # YOUR CODE HERE"
   ]
  },
  {
   "cell_type": "code",
   "execution_count": null,
   "id": "04feaff9",
   "metadata": {},
   "outputs": [],
   "source": [
    "# test your code here"
   ]
  },
  {
   "cell_type": "code",
   "execution_count": null,
   "id": "32d663a4",
   "metadata": {},
   "outputs": [],
   "source": [
    "# Q9\n",
    "def is_whole_number(a_float):\n",
    "    \"\"\"\n",
    "    returns True if a_float is a whole number\n",
    "    example: is_whole_number(2.0) => True\n",
    "    \"\"\"\n",
    "    pass"
   ]
  },
  {
   "cell_type": "code",
   "execution_count": null,
   "id": "b8ec2e8d",
   "metadata": {},
   "outputs": [],
   "source": [
    "# test your code here"
   ]
  },
  {
   "cell_type": "code",
   "execution_count": null,
   "id": "e459ecb8",
   "metadata": {},
   "outputs": [],
   "source": [
    "# Q10\n",
    "def full_description_formatting(first_name, last_name, spending):\n",
    "    \"\"\"\n",
    "    returns a sentence with the first_name and the last_name capitalized and\n",
    "     the age using string interpolation\n",
    "    example: full_description_formatting(\"john\", \"doe\", 20) => \"John Doe paid 20USD\"\n",
    "    \"\"\"\n",
    "    pass  # YOUR CODE HERE"
   ]
  },
  {
   "cell_type": "code",
   "execution_count": null,
   "id": "17a48fb0",
   "metadata": {},
   "outputs": [],
   "source": [
    "# test your code here"
   ]
  },
  {
   "cell_type": "markdown",
   "id": "a84e2f0e",
   "metadata": {},
   "source": [
    "### Kudos, you are done! 👏 Remember to submit this notebook on Learn to get feedback!"
   ]
  }
 ],
 "metadata": {
  "kernelspec": {
   "display_name": "Python 3 (ipykernel)",
   "language": "python",
   "name": "python3"
  },
  "language_info": {
   "codemirror_mode": {
    "name": "ipython",
    "version": 3
   },
   "file_extension": ".py",
   "mimetype": "text/x-python",
   "name": "python",
   "nbconvert_exporter": "python",
   "pygments_lexer": "ipython3",
   "version": "3.8.12"
  },
  "toc": {
   "base_numbering": 1,
   "nav_menu": {},
   "number_sections": true,
   "sideBar": true,
   "skip_h1_title": false,
   "title_cell": "Table of Contents",
   "title_sidebar": "Contents",
   "toc_cell": false,
   "toc_position": {},
   "toc_section_display": true,
   "toc_window_display": false
  }
 },
 "nbformat": 4,
 "nbformat_minor": 5
}
