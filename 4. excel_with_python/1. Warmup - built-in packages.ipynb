{
 "cells": [
  {
   "cell_type": "markdown",
   "id": "a48e25af",
   "metadata": {},
   "source": [
    "# Built-in Python Packages\n",
    "\n",
    "In this warm-up challenge, your goal is to implement below functions by using `random` and `math` libraries that are built into Python.\n",
    "\n",
    "You'll need to explore the documentation for [random](https://docs.python.org/3/library/random.html) and [math](https://docs.python.org/3/library/math.html) to find the right methods 🙌"
   ]
  },
  {
   "cell_type": "code",
   "execution_count": 10,
   "id": "dfd53bd9",
   "metadata": {},
   "outputs": [],
   "source": [
    "import random\n",
    "import math"
   ]
  },
  {
   "cell_type": "markdown",
   "id": "773ad124",
   "metadata": {},
   "source": [
    "Make sure to run the above cell to `import` the libraries before coding ☝️"
   ]
  },
  {
   "cell_type": "markdown",
   "id": "494655b4",
   "metadata": {},
   "source": [
    "**random**"
   ]
  },
  {
   "cell_type": "code",
   "execution_count": 6,
   "id": "2fc685c1",
   "metadata": {},
   "outputs": [],
   "source": [
    "def random_number(start, end):\n",
    "    \"\"\"\n",
    "    Should return a random integer between 'start' and 'end' (inclusive)\n",
    "    Example: random_number(1, 2) => 1 or 2\n",
    "    Check: https://docs.python.org/3/library/random.html#random.randint\n",
    "    \"\"\"\n",
    "    pass"
   ]
  },
  {
   "cell_type": "code",
   "execution_count": 8,
   "id": "8b98c7b7",
   "metadata": {},
   "outputs": [],
   "source": [
    "def pick_random_item(a_list):\n",
    "    \"\"\"\n",
    "    Should return a random item from `a_list`\n",
    "    Example: pick_random_item([1, 2]) => 1 or 2\n",
    "    Check: https://docs.python.org/3/library/random.html#random.choice\n",
    "    \"\"\"\n",
    "    pass"
   ]
  },
  {
   "cell_type": "code",
   "execution_count": null,
   "id": "1e0ff182",
   "metadata": {},
   "outputs": [],
   "source": [
    "def random_shuffle(a_list):\n",
    "    \"\"\"\n",
    "    Should `a_list` after reshuffling it\n",
    "    Example: random_shuffle([1,2,3]) => [2,3,1] or other shuffles\n",
    "    Check: https://docs.python.org/3/library/random.html#random.shuffle\n",
    "    \"\"\""
   ]
  },
  {
   "cell_type": "markdown",
   "id": "6c8596c7",
   "metadata": {},
   "source": [
    "<details>\n",
    "    <summary markdown='span'>\n",
    "        Solution 🙈\n",
    "    </summary>\n",
    "    \n",
    "    \n",
    "        def random_number(start, end):\n",
    "            return random.randint(start, end)\n",
    "    \n",
    "        def pick_random_item(a_list):\n",
    "            return random.choice(a_list)\n",
    "    \n",
    "        def random_shuffle(a_list):\n",
    "            random.shuffle(a_list)\n",
    "            return a_list\n",
    "    \n",
    "    \n",
    "</details>"
   ]
  },
  {
   "cell_type": "markdown",
   "id": "df033b77",
   "metadata": {},
   "source": [
    "**math**"
   ]
  },
  {
   "cell_type": "code",
   "execution_count": 37,
   "id": "528ba8a1",
   "metadata": {},
   "outputs": [],
   "source": [
    "def find_absolute(value):\n",
    "    \"\"\"\n",
    "    Should return the absolute value of the `value`\n",
    "    Example: find_absolute(-5) => 5.0\n",
    "    Check: https://docs.python.org/3/library/math.html#math.fabs\n",
    "    \"\"\"\n",
    "    pass"
   ]
  },
  {
   "cell_type": "code",
   "execution_count": 17,
   "id": "53b39bf3",
   "metadata": {},
   "outputs": [],
   "source": [
    "def find_common_divider(a, b):\n",
    "    \"\"\"\n",
    "    Should return the greatest common divider between `a` and `b`\n",
    "    Example: find_common_divider(25, 30) => 5\n",
    "    Check: https://docs.python.org/3/library/math.html#math.gcd\n",
    "    \"\"\"\n",
    "    pass"
   ]
  },
  {
   "cell_type": "code",
   "execution_count": 18,
   "id": "033f0ddd",
   "metadata": {},
   "outputs": [],
   "source": [
    "def multiply_all(a_list):\n",
    "    \"\"\"\n",
    "    Should return the multiplication of all numbers in `a_list`\n",
    "    Example: multiply_all([1,2,3,4]) => 24\n",
    "    Check: https://docs.python.org/3/library/math.html#math.prod\n",
    "    \"\"\"\n",
    "    pass"
   ]
  },
  {
   "cell_type": "markdown",
   "id": "9826d675",
   "metadata": {},
   "source": [
    "<details>\n",
    "    <summary markdown='span'>\n",
    "        Solution 🙈\n",
    "    </summary>\n",
    "    \n",
    "    \n",
    "        def find_absolute(value):\n",
    "            return math.fabs(value)\n",
    "    \n",
    "        def find_common_divider(a, b):\n",
    "            return math.gcd(a, b)\n",
    "    \n",
    "        def multiply_all(a_list):\n",
    "            return math.prod(a_list)\n",
    "    \n",
    "    \n",
    "</details>"
   ]
  },
  {
   "cell_type": "markdown",
   "id": "6c35b1da",
   "metadata": {},
   "source": [
    "# Good job! Onto the fun Excel stuff! 🤓"
   ]
  }
 ],
 "metadata": {
  "kernelspec": {
   "display_name": "lewagon",
   "language": "python",
   "name": "lewagon"
  },
  "language_info": {
   "codemirror_mode": {
    "name": "ipython",
    "version": 3
   },
   "file_extension": ".py",
   "mimetype": "text/x-python",
   "name": "python",
   "nbconvert_exporter": "python",
   "pygments_lexer": "ipython3",
   "version": "3.8.6"
  },
  "toc": {
   "base_numbering": 1,
   "nav_menu": {},
   "number_sections": true,
   "sideBar": true,
   "skip_h1_title": false,
   "title_cell": "Table of Contents",
   "title_sidebar": "Contents",
   "toc_cell": false,
   "toc_position": {},
   "toc_section_display": true,
   "toc_window_display": false
  }
 },
 "nbformat": 4,
 "nbformat_minor": 5
}
