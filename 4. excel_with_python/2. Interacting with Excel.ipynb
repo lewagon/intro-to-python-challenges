{
 "cells": [
  {
   "cell_type": "markdown",
   "id": "a1b9bf42",
   "metadata": {},
   "source": [
    "# Interacting with Excel through Python"
   ]
  },
  {
   "cell_type": "markdown",
   "id": "c666def2",
   "metadata": {},
   "source": [
    "This is the main challenge for this week 🚀 You will be exploring an Excel sheet with order information and using your new skills to update the sheet with Python! In the end your goal is to wrap it into a single function that takes a `file` as an argument and runs through all the functions you need.\n",
    "\n",
    "Let's get started! 💪"
   ]
  },
  {
   "cell_type": "code",
   "execution_count": null,
   "id": "552b36f1",
   "metadata": {},
   "outputs": [],
   "source": [
    "import pandas as pd"
   ]
  },
  {
   "cell_type": "code",
   "execution_count": null,
   "id": "c8455e65",
   "metadata": {},
   "outputs": [],
   "source": [
    "df = pd.read_excel('orders.xlsx')\n",
    "df"
   ]
  },
  {
   "cell_type": "markdown",
   "id": "773514c1",
   "metadata": {},
   "source": [
    "---"
   ]
  },
  {
   "cell_type": "markdown",
   "id": "38899b3f",
   "metadata": {},
   "source": [
    "## Part 1 - Quick look at the `DataFrame`"
   ]
  },
  {
   "cell_type": "markdown",
   "id": "092a2943",
   "metadata": {},
   "source": [
    "Start by exploring the DataFrame `df` with methods and attributes like `.head()`, `.shape` and others."
   ]
  },
  {
   "cell_type": "code",
   "execution_count": null,
   "id": "9b508d14",
   "metadata": {},
   "outputs": [],
   "source": [
    "# Your code here"
   ]
  },
  {
   "cell_type": "markdown",
   "id": "538bc8d1",
   "metadata": {},
   "source": [
    "<details>\n",
    "    <summary>\n",
    "        Solution 🙈\n",
    "    </summary>\n",
    "    <pre>\n",
    "    \n",
    "    You can try these:\n",
    "    \n",
    "    df.head()\n",
    "    df.dtypes\n",
    "    df.shape\n",
    "    df.describe()\n",
    "    \n",
    "    \n",
    "</details>"
   ]
  },
  {
   "cell_type": "markdown",
   "id": "b0a4594e",
   "metadata": {},
   "source": [
    "Check only the `Order_Priority` and `Order_Quantity` columns."
   ]
  },
  {
   "cell_type": "code",
   "execution_count": null,
   "id": "0b67fbf6",
   "metadata": {},
   "outputs": [],
   "source": [
    "# Your code here"
   ]
  },
  {
   "cell_type": "markdown",
   "id": "58339c3b",
   "metadata": {},
   "source": [
    "<details>\n",
    "    <summary>\n",
    "        Solution 🙈\n",
    "    </summary>\n",
    "    <pre>\n",
    "    \n",
    "    df[['Order_Priority', 'Order_Quantity']]\n",
    "    \n",
    "    \n",
    "</details>"
   ]
  },
  {
   "cell_type": "markdown",
   "id": "257bd92f",
   "metadata": {},
   "source": [
    "Count how many orders of each `Customer_Segment` and `Product_Category` are there in the dataset."
   ]
  },
  {
   "cell_type": "code",
   "execution_count": null,
   "id": "7aded45c",
   "metadata": {},
   "outputs": [],
   "source": [
    "# Your code here"
   ]
  },
  {
   "cell_type": "code",
   "execution_count": null,
   "id": "96ed9a30",
   "metadata": {},
   "outputs": [],
   "source": [
    "# Your code here"
   ]
  },
  {
   "cell_type": "markdown",
   "id": "f0913e05",
   "metadata": {},
   "source": [
    "<details>\n",
    "    <summary>\n",
    "        Solution 🙈\n",
    "    </summary>\n",
    "    <pre>\n",
    "    \n",
    "    df['Customer_Segment'].value_counts()\n",
    "    df['Product_Category'].value_counts()\n",
    "    \n",
    "    \n",
    "</details>"
   ]
  },
  {
   "cell_type": "markdown",
   "id": "eb721693",
   "metadata": {},
   "source": [
    "Sort the orders by `Order_Priority`, with `Critical` at the top, and `Low` at the bottom (hence, alphabetically)"
   ]
  },
  {
   "cell_type": "code",
   "execution_count": null,
   "id": "9ffa2fc7",
   "metadata": {},
   "outputs": [],
   "source": [
    "# Your code here"
   ]
  },
  {
   "cell_type": "markdown",
   "id": "fab0894a",
   "metadata": {},
   "source": [
    "<details>\n",
    "    <summary>\n",
    "        Solution 🙈\n",
    "    </summary>\n",
    "    <pre>\n",
    "    \n",
    "    df.sort_values('Order_Priority')\n",
    "    \n",
    "    \n",
    "</details>"
   ]
  },
  {
   "cell_type": "markdown",
   "id": "44889f30",
   "metadata": {},
   "source": [
    "---"
   ]
  },
  {
   "cell_type": "markdown",
   "id": "0cc61331",
   "metadata": {},
   "source": [
    "## Part 2 - calculating additional metrics"
   ]
  },
  {
   "cell_type": "markdown",
   "id": "f0a61475",
   "metadata": {},
   "source": [
    "We want to add some key metrics to this DataFrame:\n",
    "\n",
    "* We want to calculate the `Profit` for each order\n",
    "* We want to calculate the `sum` of all `Sales`, `Costs` and `Profit`"
   ]
  },
  {
   "cell_type": "markdown",
   "id": "bb72f6bc",
   "metadata": {},
   "source": [
    "1. Create a `Profit` column, which would be the `Sales` minus the `Costs`"
   ]
  },
  {
   "cell_type": "code",
   "execution_count": null,
   "id": "a0440716",
   "metadata": {},
   "outputs": [],
   "source": [
    "# Your code here"
   ]
  },
  {
   "cell_type": "markdown",
   "id": "1f3d1f81",
   "metadata": {},
   "source": [
    "<details>\n",
    "    <summary>\n",
    "        Solution 🙈\n",
    "    </summary>\n",
    "    <pre>\n",
    "    \n",
    "    df['Profit'] = df['Sales'] - df['Costs']\n",
    "    df # to check if it worked\n",
    "    \n",
    "    \n",
    "</details>"
   ]
  },
  {
   "cell_type": "markdown",
   "id": "b8c61c0d",
   "metadata": {},
   "source": [
    "2. Append the total `Sales`, `Costs` and `Profit` at the bottom of the DataFrame. Use the [sum()](https://pandas.pydata.org/docs/reference/api/pandas.DataFrame.sum.html) method for this. Make sure to check what the `numeric_only` option does, you'll need it!"
   ]
  },
  {
   "cell_type": "code",
   "execution_count": null,
   "id": "09cc922b",
   "metadata": {},
   "outputs": [],
   "source": [
    "# Your code here"
   ]
  },
  {
   "cell_type": "markdown",
   "id": "da83c01c",
   "metadata": {},
   "source": [
    "<details>\n",
    "    <summary>\n",
    "        Solution 🙈\n",
    "    </summary>\n",
    "    <pre>\n",
    "    \n",
    "    df = df.append(df.sum(axis='rows', numeric_only=True), ignore_index=True)\n",
    "    df\n",
    "    \n",
    "    \n",
    "</details>"
   ]
  },
  {
   "cell_type": "markdown",
   "id": "d89382f0",
   "metadata": {},
   "source": [
    "---"
   ]
  },
  {
   "cell_type": "markdown",
   "id": "b0d677a9",
   "metadata": {},
   "source": [
    "## Part 3 - conditional formatting"
   ]
  },
  {
   "cell_type": "markdown",
   "id": "5b80f5c9",
   "metadata": {},
   "source": [
    "We want to make the spreadsheet easier to read by adding some formatting.\n",
    "\n",
    "1. We want to mark the negative `Profit` on orders that lose money in <span style='color: red;'>red</span>\n",
    "2. We want to mark orders with low `Order_Quantity` (below 10) with <span style='color: gold;'>a yellow background</span>"
   ]
  },
  {
   "cell_type": "markdown",
   "id": "837935c5",
   "metadata": {},
   "source": [
    "**Formatting Profit**\n",
    "\n",
    "Start by defining the function that will take a `Profit` value and return the right formatting for profits that are below 0"
   ]
  },
  {
   "cell_type": "code",
   "execution_count": null,
   "id": "a503eecf",
   "metadata": {},
   "outputs": [],
   "source": [
    "# Your code here"
   ]
  },
  {
   "cell_type": "markdown",
   "id": "d45a4a29",
   "metadata": {},
   "source": [
    "<details>\n",
    "    <summary>\n",
    "        Solution 🙈\n",
    "    </summary>\n",
    "    <pre>\n",
    "    \n",
    "    def red_if_negative(profit):\n",
    "        if profit < 0:\n",
    "            return 'color: red;'\n",
    "    \n",
    "    \n",
    "</details>"
   ]
  },
  {
   "cell_type": "markdown",
   "id": "7bbe8144",
   "metadata": {},
   "source": [
    "Now extract the `Styler` object from the DataFrame `df` and apply the formatting."
   ]
  },
  {
   "cell_type": "code",
   "execution_count": null,
   "id": "9dc1a02a",
   "metadata": {},
   "outputs": [],
   "source": [
    "# Your code here"
   ]
  },
  {
   "cell_type": "markdown",
   "id": "5e498d30",
   "metadata": {},
   "source": [
    "<details>\n",
    "    <summary>\n",
    "        Solution 🙈\n",
    "    </summary>\n",
    "    <pre>\n",
    "    \n",
    "    styled_df = df.style\n",
    "    styled_df.applymap(red_if_negative, subset='Profit')\n",
    "    \n",
    "    \n",
    "</details>"
   ]
  },
  {
   "cell_type": "markdown",
   "id": "7216c95c",
   "metadata": {},
   "source": [
    "**Formatting Order Quantity**"
   ]
  },
  {
   "cell_type": "markdown",
   "id": "a31bb525",
   "metadata": {},
   "source": [
    "Define a function that will take a `Order_Quantity` value and return the right formatting for small quantities"
   ]
  },
  {
   "cell_type": "code",
   "execution_count": null,
   "id": "407a87cd",
   "metadata": {},
   "outputs": [],
   "source": [
    "# Your code here"
   ]
  },
  {
   "cell_type": "markdown",
   "id": "2ed35471",
   "metadata": {},
   "source": [
    "<details>\n",
    "    <summary>\n",
    "        Solution 🙈\n",
    "    </summary>\n",
    "    <pre>\n",
    "    \n",
    "    def yellow_if_low(quantity):\n",
    "        if quantity < 10:\n",
    "            return 'background-color: yellow;'\n",
    "    \n",
    "    \n",
    "</details>"
   ]
  },
  {
   "cell_type": "markdown",
   "id": "9ec33823",
   "metadata": {},
   "source": [
    "Now apply the new formatting on the `Styler` object you extracted previously"
   ]
  },
  {
   "cell_type": "code",
   "execution_count": null,
   "id": "a204998f",
   "metadata": {},
   "outputs": [],
   "source": [
    "# Your code here"
   ]
  },
  {
   "cell_type": "markdown",
   "id": "c2b21fae",
   "metadata": {},
   "source": [
    "<details>\n",
    "    <summary>\n",
    "        Solution 🙈\n",
    "    </summary>\n",
    "    <pre>\n",
    "    \n",
    "    styled_df.applymap(yellow_if_low, subset='Order_Quantity')\n",
    "    \n",
    "    \n",
    "</details>"
   ]
  },
  {
   "cell_type": "markdown",
   "id": "6155eeb8",
   "metadata": {},
   "source": [
    "**Optional 🏋️‍♂️ - Formatting `Critical` order rows**\n",
    "\n",
    "Let's highlight the orders with a Critical `Order_Priority`. To make these immediately visible, we want to color the entire row red, with white text (for readability).\n",
    "\n",
    "This task is optional, so no solutions 😉 but you should use the slides about formatting the _grade columns_ as reference!"
   ]
  },
  {
   "cell_type": "code",
   "execution_count": null,
   "id": "2f7cc6d8",
   "metadata": {},
   "outputs": [],
   "source": [
    "# Your code here"
   ]
  },
  {
   "cell_type": "markdown",
   "id": "f8da96d0",
   "metadata": {},
   "source": [
    "---"
   ]
  },
  {
   "cell_type": "markdown",
   "id": "ed48fbf0",
   "metadata": {},
   "source": [
    "**Done?** At this point, your styled `DataFrame` should have rows that look like this 👇"
   ]
  },
  {
   "cell_type": "markdown",
   "id": "7798b225",
   "metadata": {},
   "source": [
    "![](../images/styled_df.png)"
   ]
  },
  {
   "cell_type": "markdown",
   "id": "46826729",
   "metadata": {},
   "source": [
    "---"
   ]
  },
  {
   "cell_type": "markdown",
   "id": "22e20cf4",
   "metadata": {},
   "source": [
    "## Final Part 🚀 - Turning it into a function"
   ]
  },
  {
   "cell_type": "markdown",
   "id": "a764ddc7",
   "metadata": {},
   "source": [
    "This is the **project** part of this challenge - which means no solutions. But you have all you need above! 🙌\n",
    "\n",
    "Your goal is to implement the `update_orders` function below, so that it takes a file name, runs all the code needed to update and format the orders data, and saves it back to the file. Refer to your code above, the slides and the video, and **you will nail this! 🔨**"
   ]
  },
  {
   "cell_type": "code",
   "execution_count": null,
   "id": "1f45313e",
   "metadata": {},
   "outputs": [],
   "source": [
    "def update_orders(file):\n",
    "    pass\n",
    "    # Your code here"
   ]
  },
  {
   "cell_type": "markdown",
   "id": "ce800083",
   "metadata": {},
   "source": [
    "Make sure to test your code by running the cell below and opening the `orders.xlsx` file with Excel - do you see the Profit column, the sums at the bottom and the formatting? If so, you are done, congratulations! 👏"
   ]
  },
  {
   "cell_type": "code",
   "execution_count": null,
   "id": "6ea19d34",
   "metadata": {},
   "outputs": [],
   "source": [
    "update_orders('orders.xlsx')"
   ]
  },
  {
   "cell_type": "markdown",
   "id": "a0dc04ac",
   "metadata": {},
   "source": [
    "---"
   ]
  },
  {
   "cell_type": "markdown",
   "id": "e6f7f5ea",
   "metadata": {},
   "source": [
    "## Optional 🏋️‍♂️ - Combining multiple files into one\n",
    "\n",
    "We will often have multiple Excel files storing the same info - for example an Excel file for each month's orders - and to make the most of analyzing them we will want to combine them into one DataFrame.\n",
    "\n",
    "Your goal is to implement the `update_all_order_files` function below, which takes a _list of file names_ and should turn them into one `DataFrame` before applying all of the above steps and saving it to a single file. We added some code for you, since this will involve something new, like the [pd.concat()](https://pandas.pydata.org/docs/reference/api/pandas.concat.html) method :)"
   ]
  },
  {
   "cell_type": "code",
   "execution_count": null,
   "id": "a14eae5c",
   "metadata": {},
   "outputs": [],
   "source": [
    "def update_all_order_files(files):\n",
    "    # 1. Create an empty list called `dataframes`\n",
    "    # 2. Loop through 'files' and append a DataFrame to `dataframes` for each file\n",
    "    \n",
    "    # 3. Then run this to create a combined DataFrame from all files\n",
    "    combined_df = pd.concat(dataframes)\n",
    "    \n",
    "    # 4. Then implement the rest of the code to update your order data\n",
    "    # 5. Finally save the combined DataFrame to a file called \"combined_orders.xlsx\""
   ]
  },
  {
   "cell_type": "markdown",
   "id": "b76a6057",
   "metadata": {},
   "source": [
    "**Done?** Run the cell below to test your code. If you implement the `update_all_order_files` function correctly, you should get a file called `combined_orders.xlsx` created. Check it in Excel, to make sure you have all you need:\n",
    "\n",
    "1. Profit column\n",
    "2. Sums of quantities, sales, costs, profits at the bottom\n",
    "3. Conditional formatting for Profits and Order_Quantity"
   ]
  },
  {
   "cell_type": "code",
   "execution_count": null,
   "id": "b221b4d3",
   "metadata": {},
   "outputs": [],
   "source": [
    "files = ['orders_Aug.xlsx', 'orders_Sept.xlsx', 'orders_Oct.xlsx']\n",
    "update_all_order_files(files)"
   ]
  },
  {
   "cell_type": "markdown",
   "id": "bf361e9a",
   "metadata": {},
   "source": [
    "All check? ✅ You've completed the optional challenge - congrats! 👏"
   ]
  },
  {
   "cell_type": "markdown",
   "id": "faaa985f",
   "metadata": {},
   "source": [
    "# Zip the `excel_with_python` folder and submit it with your name in the file name! 🙏"
   ]
  }
 ],
 "metadata": {
  "kernelspec": {
   "display_name": "lewagon",
   "language": "python",
   "name": "lewagon"
  },
  "language_info": {
   "codemirror_mode": {
    "name": "ipython",
    "version": 3
   },
   "file_extension": ".py",
   "mimetype": "text/x-python",
   "name": "python",
   "nbconvert_exporter": "python",
   "pygments_lexer": "ipython3",
   "version": "3.8.6"
  },
  "toc": {
   "base_numbering": 1,
   "nav_menu": {},
   "number_sections": true,
   "sideBar": true,
   "skip_h1_title": false,
   "title_cell": "Table of Contents",
   "title_sidebar": "Contents",
   "toc_cell": false,
   "toc_position": {},
   "toc_section_display": true,
   "toc_window_display": false
  }
 },
 "nbformat": 4,
 "nbformat_minor": 5
}
