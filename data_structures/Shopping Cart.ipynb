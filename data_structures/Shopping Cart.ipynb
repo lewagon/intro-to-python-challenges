{
 "cells": [
  {
   "cell_type": "markdown",
   "id": "b8ac9235",
   "metadata": {},
   "source": [
    "# Shopping Cart 🛒\n",
    "\n",
    "One of the core concepts of real programs is the notion of a **shopping cart** - an e-commerce concept, allowing users to put items in their cart and check out when they are ready. You will be implementing this logic in this project! 💪\n",
    "\n",
    "\n",
    "\n",
    "<div style=\"display: flex;\">\n",
    "    <div>\n",
    "        <h3>Today in the store:</h3>\n",
    "        <ul>\n",
    "            <li>yogurt: 10 RMB</li>\n",
    "            <li>meat: 20 RMB</li>\n",
    "            <li>vegetables: 5 RMB</li>\n",
    "            <li>potatoes: 3 RMB</li>\n",
    "            <li>rice: 2 RMB</li>\n",
    "            <p>... and any other items you'd like to add 😉</p>\n",
    "        </ul>\n",
    "    </div>\n",
    "    <div style=\"text-align: center;\">\n",
    "        <h3>Your final program should look something like this:</h3>\n",
    "        <img style=\"width: 50%; box-shadow: 0 0 20px rgba(0,0,0,0.3)\" src=\"../images/shopping_cart.png\"/>\n",
    "    </div>\n",
    "</div>\n",
    "\n"
   ]
  },
  {
   "cell_type": "markdown",
   "id": "2f649878",
   "metadata": {},
   "source": [
    "## Let's begin! 🚀"
   ]
  },
  {
   "cell_type": "markdown",
   "id": "179bdd67",
   "metadata": {},
   "source": [
    "1. Start by creating the variables you need - the store `inventory` and the shopping `cart`. But what data types should those variables store? 🧐"
   ]
  },
  {
   "cell_type": "code",
   "execution_count": null,
   "id": "a626aea4",
   "metadata": {},
   "outputs": [],
   "source": [
    "# your variables here"
   ]
  },
  {
   "cell_type": "markdown",
   "id": "a2739895",
   "metadata": {},
   "source": [
    "2. Now let's implement the functions we need for the store. Make sure to test the functions one by one, before jumping into the whole program!"
   ]
  },
  {
   "cell_type": "code",
   "execution_count": 1,
   "id": "fde5a963",
   "metadata": {},
   "outputs": [],
   "source": [
    "def print_available_items(inventory):\n",
    "    \"\"\"\n",
    "    This function should print a nice display of the available items.\n",
    "    But what would be the best data structure for the inventory? 🤔\n",
    "    \"\"\"\n",
    "    pass"
   ]
  },
  {
   "cell_type": "code",
   "execution_count": null,
   "id": "66b9c15b",
   "metadata": {},
   "outputs": [],
   "source": [
    "# test your function"
   ]
  },
  {
   "cell_type": "code",
   "execution_count": 2,
   "id": "ab075777",
   "metadata": {},
   "outputs": [],
   "source": [
    "def ask_user_choice():\n",
    "    \"\"\"\n",
    "    This function should ask the user for their choice of action\n",
    "    Then **return** the user choice\n",
    "    \"\"\"\n",
    "    pass"
   ]
  },
  {
   "cell_type": "code",
   "execution_count": null,
   "id": "fbd3dcc9",
   "metadata": {},
   "outputs": [],
   "source": [
    "# test your function"
   ]
  },
  {
   "cell_type": "code",
   "execution_count": null,
   "id": "c8ad2027",
   "metadata": {},
   "outputs": [],
   "source": [
    "def ask_which_item():\n",
    "    \"\"\"\n",
    "    This function should ask the user for the item to add to cart\n",
    "    Then **return** the user choice\n",
    "    \"\"\"\n",
    "    pass"
   ]
  },
  {
   "cell_type": "code",
   "execution_count": null,
   "id": "8c71358d",
   "metadata": {},
   "outputs": [],
   "source": [
    "# test your function"
   ]
  },
  {
   "cell_type": "code",
   "execution_count": 10,
   "id": "2f475429",
   "metadata": {},
   "outputs": [],
   "source": [
    "def count_total(cart, inventory):\n",
    "    \"\"\"\n",
    "    This function should calculate the total cost of all items in cart\n",
    "    \"\"\"\n",
    "    pass"
   ]
  },
  {
   "cell_type": "code",
   "execution_count": null,
   "id": "2e4ca0e3",
   "metadata": {},
   "outputs": [],
   "source": [
    "# test your function"
   ]
  },
  {
   "cell_type": "markdown",
   "id": "3f3e13c9",
   "metadata": {},
   "source": [
    "3. Now it's time to write the shopping loop. Think through what happens when, and test by running your code step by step. You can use the screenshot at the start of the exercise to see the order of actions."
   ]
  },
  {
   "cell_type": "code",
   "execution_count": null,
   "id": "61adecfd",
   "metadata": {},
   "outputs": [],
   "source": [
    "print(\"🛒 Welcome to the Py 24/7 shop 🛒\")\n",
    "print(\"--------------------------------\")\n",
    "# your code here\n",
    "\n",
    "\n",
    "\n",
    "\n",
    "\n",
    "\n",
    "\n",
    "\n",
    "\n",
    "\n",
    "\n",
    "\n"
   ]
  },
  {
   "cell_type": "markdown",
   "id": "a462aca6",
   "metadata": {},
   "source": [
    "# Done? Download the notebook and submit the file on Learn 🚀"
   ]
  }
 ],
 "metadata": {
  "kernelspec": {
   "display_name": "lewagon",
   "language": "python",
   "name": "lewagon"
  },
  "language_info": {
   "codemirror_mode": {
    "name": "ipython",
    "version": 3
   },
   "file_extension": ".py",
   "mimetype": "text/x-python",
   "name": "python",
   "nbconvert_exporter": "python",
   "pygments_lexer": "ipython3",
   "version": "3.8.6"
  },
  "toc": {
   "base_numbering": 1,
   "nav_menu": {},
   "number_sections": true,
   "sideBar": true,
   "skip_h1_title": false,
   "title_cell": "Table of Contents",
   "title_sidebar": "Contents",
   "toc_cell": false,
   "toc_position": {},
   "toc_section_display": true,
   "toc_window_display": false
  }
 },
 "nbformat": 4,
 "nbformat_minor": 5
}
