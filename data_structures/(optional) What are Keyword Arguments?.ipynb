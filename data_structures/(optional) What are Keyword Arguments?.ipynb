{
 "cells": [
  {
   "cell_type": "markdown",
   "id": "ea23846a",
   "metadata": {},
   "source": [
    "# Keyword Arguments\n",
    "\n",
    "Welcome to this optional challenge! In this one, we will introduce to you the concept of [`kwargs`](https://docs.python.org/3/glossary.html#term-argument) (short for keyword arguments) - a way to pass _any_ number of arguments to a function."
   ]
  },
  {
   "cell_type": "markdown",
   "id": "3e9e75ce",
   "metadata": {},
   "source": [
    "Imagine a function that builds a car (the real code in a factory is probably more complex, but let's pretend):"
   ]
  },
  {
   "cell_type": "code",
   "execution_count": null,
   "id": "8c86e7c4",
   "metadata": {},
   "outputs": [],
   "source": [
    "def build_car(wheels, engine_size, color, has_four_wheel_drive):\n",
    "    print(f\"Building a car....\")\n",
    "    print(f\"We put in a {engine_size} litre engine...\")\n",
    "    print(f\"We attach {wheels} wheels on the car...\")\n",
    "    # this is a way to write if/else statements in one line!\n",
    "    four_wheel_drive = \"will have\" if has_four_wheel_drive else \"won't have\"\n",
    "    print(f\"The car {four_wheel_drive} four-wheel drive\")\n",
    "    print(f\"Finally, we paint the car {color}\")"
   ]
  },
  {
   "cell_type": "markdown",
   "id": "0716dad5",
   "metadata": {},
   "source": [
    "Now let's try to call the function:"
   ]
  },
  {
   "cell_type": "code",
   "execution_count": null,
   "id": "4481ce87",
   "metadata": {},
   "outputs": [],
   "source": [
    "build_car(4, 2.5, 'red', False)"
   ]
  },
  {
   "cell_type": "markdown",
   "id": "927772a9",
   "metadata": {},
   "source": [
    "Everything works as planned. But there are **two potential issues** with this function:\n",
    "\n",
    "**1. We need to remember the order of arguments**"
   ]
  },
  {
   "cell_type": "code",
   "execution_count": null,
   "id": "325e6b23",
   "metadata": {},
   "outputs": [],
   "source": [
    "build_car(False, 'red', 2.5, 4)"
   ]
  },
  {
   "cell_type": "markdown",
   "id": "e2d02fe0",
   "metadata": {},
   "source": [
    "The function still runs, but our logic is now broken because the order of arguments is not following the order we defined in the function ☹️ this is called _order dependency_, and we don't want it."
   ]
  },
  {
   "cell_type": "markdown",
   "id": "8df6887c",
   "metadata": {},
   "source": [
    "**2. We must pass exactly 4 arguments, no more, no less**\n",
    "\n",
    "We might want to produce a car without paint first. Or we might want to add extra features. With our current definition of `build_car` that is not possible ☹️"
   ]
  },
  {
   "cell_type": "code",
   "execution_count": null,
   "id": "cba92116",
   "metadata": {},
   "outputs": [],
   "source": [
    "build_car(4, 2.5, False)"
   ]
  },
  {
   "cell_type": "code",
   "execution_count": null,
   "id": "5c1e788c",
   "metadata": {},
   "outputs": [],
   "source": [
    "build_car(4, 2.5, 'red', False, lights=\"neon\")"
   ]
  },
  {
   "cell_type": "markdown",
   "id": "3ce21dad",
   "metadata": {},
   "source": [
    "As you see both these function calls failed ☝️\n",
    "\n",
    "### Let's upgrade `build_car` to take just one argument - a dictionary!"
   ]
  },
  {
   "cell_type": "code",
   "execution_count": null,
   "id": "16621872",
   "metadata": {},
   "outputs": [],
   "source": [
    "def build_car(options={}):\n",
    "    print(f\"Building a car....\")\n",
    "    print(f\"We put in a {options.get('engine_size')} litre engine...\")\n",
    "    print(f\"We attach {options.get('wheels')} wheels on the car...\")\n",
    "    # this is a way to write if/else statements in one line!\n",
    "    four_wheel_drive = \"will have\" if options.get('has_four_wheel_drive') else \"won't have\"\n",
    "    print(f\"The car {four_wheel_drive} four-wheel drive\")\n",
    "    print(f\"Finally, we paint the car {options.get('color')}\")"
   ]
  },
  {
   "cell_type": "markdown",
   "id": "d390787e",
   "metadata": {},
   "source": [
    "Instead of depending on four ordered arguments, we can now pass them all in one dictionary - `options` - and retrieve the info using the `.get()` function. Because of how `.get()` behaves, our program also won't crash, if we have extra or less arguments in the dictionary!"
   ]
  },
  {
   "cell_type": "code",
   "execution_count": null,
   "id": "1e7692fe",
   "metadata": {},
   "outputs": [],
   "source": [
    "build_car({'engine_size': 2.5, 'wheels': 4})"
   ]
  },
  {
   "cell_type": "code",
   "execution_count": null,
   "id": "06ccf844",
   "metadata": {},
   "outputs": [],
   "source": [
    "build_car({'headlights': 'neon', 'wheels': 4, 'has_four_wheel_drive': True, 'heated_seats': True})"
   ]
  },
  {
   "cell_type": "markdown",
   "id": "90a04c91",
   "metadata": {},
   "source": [
    "### Let's make the function fully customized with `kwargs` (keyword arguments)"
   ]
  },
  {
   "cell_type": "markdown",
   "id": "d9e329a9",
   "metadata": {},
   "source": [
    "Making the function take a dictionary already allows us flexibility. But notice that if we pass extra parameters - like `headlights` or `heated_seats`, they simply get ignored.\n",
    "\n",
    "Using `kwargs` we can account for **all arguments passed to the function** and have an even better syntax of writing these arguments.\n",
    "\n",
    "Here's how that can look like 👇"
   ]
  },
  {
   "cell_type": "code",
   "execution_count": null,
   "id": "d38fffbf",
   "metadata": {},
   "outputs": [],
   "source": [
    "def build_car(**kwargs):\n",
    "    print('Building a car...')\n",
    "    for key, value in kwargs.items():\n",
    "        print(f\"We add {key} with the parameter: {value}\")"
   ]
  },
  {
   "cell_type": "markdown",
   "id": "5630dd62",
   "metadata": {},
   "source": [
    "Notice that we're looping through `kwargs` like a regular dictionary. Now let's call the function:"
   ]
  },
  {
   "cell_type": "code",
   "execution_count": null,
   "id": "296134d9",
   "metadata": {},
   "outputs": [],
   "source": [
    "build_car(engine='2.5 litre', wheels='4 wheels', headlights='neon', heated_seats='front only')"
   ]
  },
  {
   "cell_type": "markdown",
   "id": "5ac5a98c",
   "metadata": {},
   "source": [
    "We can now account for **any arguments** passed into this function. It allows the developers working with the code more flexibility and scalability. 🤓"
   ]
  },
  {
   "cell_type": "markdown",
   "id": "6c5f768e",
   "metadata": {},
   "source": [
    "# Your turn! 🚀\n",
    "\n",
    "Your goal is to understand and rewrite this musical function into a better version of itself - using `kwargs` and `.get()`. Good luck! 🎶"
   ]
  },
  {
   "cell_type": "code",
   "execution_count": null,
   "id": "98e6246c",
   "metadata": {},
   "outputs": [],
   "source": [
    "def refrain(lyrics, number_of_times, vibrato, strong):\n",
    "    song_refrain = []\n",
    "    lyrics += lyrics[len(lyrics) - 1] * vibrato\n",
    "    if strong:\n",
    "        lyrics = lyrics.upper()\n",
    "        \n",
    "    for time in range(1, number_of_times + 1):\n",
    "        song_refrain.append(lyrics)\n",
    "\n",
    "    print(\"\\n\".join(song_refrain))"
   ]
  },
  {
   "cell_type": "code",
   "execution_count": null,
   "id": "b4c5a0e8",
   "metadata": {},
   "outputs": [],
   "source": [
    "def better_refrain(**kwargs):\n",
    "    pass\n",
    "    # your code here"
   ]
  },
  {
   "cell_type": "markdown",
   "id": "3c00aeda",
   "metadata": {},
   "source": [
    "# Done? Make sure to download the notebook and submit it on Learn 🚀"
   ]
  }
 ],
 "metadata": {
  "kernelspec": {
   "display_name": "lewagon",
   "language": "python",
   "name": "lewagon"
  },
  "language_info": {
   "codemirror_mode": {
    "name": "ipython",
    "version": 3
   },
   "file_extension": ".py",
   "mimetype": "text/x-python",
   "name": "python",
   "nbconvert_exporter": "python",
   "pygments_lexer": "ipython3",
   "version": "3.8.6"
  },
  "toc": {
   "base_numbering": 1,
   "nav_menu": {},
   "number_sections": true,
   "sideBar": true,
   "skip_h1_title": false,
   "title_cell": "Table of Contents",
   "title_sidebar": "Contents",
   "toc_cell": false,
   "toc_position": {},
   "toc_section_display": true,
   "toc_window_display": false
  }
 },
 "nbformat": 4,
 "nbformat_minor": 5
}
