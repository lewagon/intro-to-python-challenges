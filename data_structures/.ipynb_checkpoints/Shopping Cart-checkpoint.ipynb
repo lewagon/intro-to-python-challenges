{
 "cells": [
  {
   "cell_type": "markdown",
   "id": "b8ac9235",
   "metadata": {},
   "source": [
    "# Shopping Cart 🛒\n",
    "\n",
    "One of the core concepts of programming, is the notion of a **shopping cart** - an e-commerce concept, allowing users to put items in their cart and check out when they are ready. You will be implementing this logic in this project! 💪\n",
    "\n",
    "\n",
    "\n",
    "<div style=\"display: flex;\">\n",
    "    <div>\n",
    "        <h2>Today in the store:</h2>\n",
    "        <ul>\n",
    "            <li>yogurt: 10 RMB</li>\n",
    "            <li>meat: 20 RMB</li>\n",
    "            <li>vegetables: 5 RMB</li>\n",
    "            <li>potatoes: 3 RMB</li>\n",
    "            <li>rice: 2 RMB</li>\n",
    "            <p>... and any other items you'd like to add 😉</p>\n",
    "        </ul>\n",
    "    </div>\n",
    "    <div style=\"text-align: center;\">\n",
    "        <h2>Your final program should look like this:</h2>\n",
    "        <img style=\"width: 50%; box-shadow: 0 0 20px rgba(0,0,0,0.3)\" src=\"../images/shopping_cart.png\"/>\n",
    "    </div>\n",
    "</div>\n",
    "\n"
   ]
  },
  {
   "cell_type": "code",
   "execution_count": 1,
   "id": "fde5a963",
   "metadata": {},
   "outputs": [],
   "source": [
    "def print_available_items(inventory):\n",
    "    \"\"\"\n",
    "    This function should print a nice display of the available items.\n",
    "    But what would be the best data structure for the inventory? 🤔\n",
    "    \"\"\"\n",
    "    pass"
   ]
  },
  {
   "cell_type": "code",
   "execution_count": 2,
   "id": "ab075777",
   "metadata": {},
   "outputs": [],
   "source": [
    "def ask_user_choice():\n",
    "    \"\"\"\n",
    "    This function should ask the user for their choice\n",
    "    Then **return** the user choice\n",
    "    \"\"\"\n",
    "    pass"
   ]
  },
  {
   "cell_type": "code",
   "execution_count": null,
   "id": "c8ad2027",
   "metadata": {},
   "outputs": [],
   "source": []
  }
 ],
 "metadata": {
  "kernelspec": {
   "display_name": "lewagon",
   "language": "python",
   "name": "lewagon"
  },
  "language_info": {
   "codemirror_mode": {
    "name": "ipython",
    "version": 3
   },
   "file_extension": ".py",
   "mimetype": "text/x-python",
   "name": "python",
   "nbconvert_exporter": "python",
   "pygments_lexer": "ipython3",
   "version": "3.8.6"
  },
  "toc": {
   "base_numbering": 1,
   "nav_menu": {},
   "number_sections": true,
   "sideBar": true,
   "skip_h1_title": false,
   "title_cell": "Table of Contents",
   "title_sidebar": "Contents",
   "toc_cell": false,
   "toc_position": {},
   "toc_section_display": true,
   "toc_window_display": false
  }
 },
 "nbformat": 4,
 "nbformat_minor": 5
}
